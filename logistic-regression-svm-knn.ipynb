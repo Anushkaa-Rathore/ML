{
 "cells": [
  {
   "cell_type": "code",
   "execution_count": 1,
   "id": "f878debd",
   "metadata": {
    "_cell_guid": "b1076dfc-b9ad-4769-8c92-a6c4dae69d19",
    "_uuid": "8f2839f25d086af736a60e9eeb907d3b93b6e0e5",
    "execution": {
     "iopub.execute_input": "2022-07-07T18:59:00.341715Z",
     "iopub.status.busy": "2022-07-07T18:59:00.341287Z",
     "iopub.status.idle": "2022-07-07T18:59:00.359993Z",
     "shell.execute_reply": "2022-07-07T18:59:00.358954Z"
    },
    "papermill": {
     "duration": 0.036266,
     "end_time": "2022-07-07T18:59:00.364042",
     "exception": false,
     "start_time": "2022-07-07T18:59:00.327776",
     "status": "completed"
    },
    "tags": []
   },
   "outputs": [
    {
     "name": "stdout",
     "output_type": "stream",
     "text": [
      "/kaggle/input/heart-disease-prediction-using-logistic-regression/framingham.csv\n"
     ]
    }
   ],
   "source": [
    "# This Python 3 environment comes with many helpful analytics libraries installed\n",
    "# It is defined by the kaggle/python Docker image: https://github.com/kaggle/docker-python\n",
    "# For example, here's several helpful packages to load\n",
    "\n",
    "import numpy as np # linear algebra\n",
    "import pandas as pd # data processing, CSV file I/O (e.g. pd.read_csv)\n",
    "\n",
    "# Input data files are available in the read-only \"../input/\" directory\n",
    "# For example, running this (by clicking run or pressing Shift+Enter) will list all files under the input directory\n",
    "\n",
    "import os\n",
    "for dirname, _, filenames in os.walk('/kaggle/input'):\n",
    "    for filename in filenames:\n",
    "        print(os.path.join(dirname, filename))\n",
    "\n",
    "# You can write up to 20GB to the current directory (/kaggle/working/) that gets preserved as output when you create a version using \"Save & Run All\" \n",
    "# You can also write temporary files to /kaggle/temp/, but they won't be saved outside of the current session"
   ]
  },
  {
   "cell_type": "code",
   "execution_count": 2,
   "id": "ba5874f8",
   "metadata": {
    "execution": {
     "iopub.execute_input": "2022-07-07T18:59:00.388377Z",
     "iopub.status.busy": "2022-07-07T18:59:00.387517Z",
     "iopub.status.idle": "2022-07-07T18:59:01.533819Z",
     "shell.execute_reply": "2022-07-07T18:59:01.532611Z"
    },
    "papermill": {
     "duration": 1.160397,
     "end_time": "2022-07-07T18:59:01.536059",
     "exception": false,
     "start_time": "2022-07-07T18:59:00.375662",
     "status": "completed"
    },
    "tags": []
   },
   "outputs": [
    {
     "name": "stdout",
     "output_type": "stream",
     "text": [
      "/kaggle/input/heart-disease-prediction-using-logistic-regression/framingham.csv\n"
     ]
    }
   ],
   "source": [
    "import numpy as np # linear algebra\n",
    "import pandas as pd # data processing, CSV file I/O (e.g. pd.read_csv)\n",
    "import matplotlib.pyplot as plt # Vizualisation\n",
    "import seaborn as sns # Vizualisation\n",
    "\n",
    "# Input data files are available in the read-only \"../input/\" directory\n",
    "# For example, running this (by clicking run or pressing Shift+Enter) will list all files under the input directory\n",
    "\n",
    "import os\n",
    "for dirname, _, filenames in os.walk('/kaggle/input'):\n",
    "    for filename in filenames:\n",
    "        print(os.path.join(dirname, filename))\n",
    "\n",
    "# You can write up to 20GB to the current directory (/kaggle/working/) that gets preserved as output when you create a version using \"Save & Run All\" \n",
    "# You can also write temporary files to /kaggle/temp/, but they won't be saved outside of the current session"
   ]
  },
  {
   "cell_type": "code",
   "execution_count": 3,
   "id": "07dc23bb",
   "metadata": {
    "execution": {
     "iopub.execute_input": "2022-07-07T18:59:01.560756Z",
     "iopub.status.busy": "2022-07-07T18:59:01.559623Z",
     "iopub.status.idle": "2022-07-07T18:59:01.611680Z",
     "shell.execute_reply": "2022-07-07T18:59:01.610320Z"
    },
    "papermill": {
     "duration": 0.067263,
     "end_time": "2022-07-07T18:59:01.614437",
     "exception": false,
     "start_time": "2022-07-07T18:59:01.547174",
     "status": "completed"
    },
    "tags": []
   },
   "outputs": [
    {
     "data": {
      "text/html": [
       "<div>\n",
       "<style scoped>\n",
       "    .dataframe tbody tr th:only-of-type {\n",
       "        vertical-align: middle;\n",
       "    }\n",
       "\n",
       "    .dataframe tbody tr th {\n",
       "        vertical-align: top;\n",
       "    }\n",
       "\n",
       "    .dataframe thead th {\n",
       "        text-align: right;\n",
       "    }\n",
       "</style>\n",
       "<table border=\"1\" class=\"dataframe\">\n",
       "  <thead>\n",
       "    <tr style=\"text-align: right;\">\n",
       "      <th></th>\n",
       "      <th>male</th>\n",
       "      <th>age</th>\n",
       "      <th>education</th>\n",
       "      <th>currentSmoker</th>\n",
       "      <th>cigsPerDay</th>\n",
       "      <th>BPMeds</th>\n",
       "      <th>prevalentStroke</th>\n",
       "      <th>prevalentHyp</th>\n",
       "      <th>diabetes</th>\n",
       "      <th>totChol</th>\n",
       "      <th>sysBP</th>\n",
       "      <th>diaBP</th>\n",
       "      <th>BMI</th>\n",
       "      <th>heartRate</th>\n",
       "      <th>glucose</th>\n",
       "      <th>TenYearCHD</th>\n",
       "    </tr>\n",
       "  </thead>\n",
       "  <tbody>\n",
       "    <tr>\n",
       "      <th>0</th>\n",
       "      <td>1</td>\n",
       "      <td>39</td>\n",
       "      <td>4.0</td>\n",
       "      <td>0</td>\n",
       "      <td>0.0</td>\n",
       "      <td>0.0</td>\n",
       "      <td>0</td>\n",
       "      <td>0</td>\n",
       "      <td>0</td>\n",
       "      <td>195.0</td>\n",
       "      <td>106.0</td>\n",
       "      <td>70.0</td>\n",
       "      <td>26.97</td>\n",
       "      <td>80.0</td>\n",
       "      <td>77.0</td>\n",
       "      <td>0</td>\n",
       "    </tr>\n",
       "    <tr>\n",
       "      <th>1</th>\n",
       "      <td>0</td>\n",
       "      <td>46</td>\n",
       "      <td>2.0</td>\n",
       "      <td>0</td>\n",
       "      <td>0.0</td>\n",
       "      <td>0.0</td>\n",
       "      <td>0</td>\n",
       "      <td>0</td>\n",
       "      <td>0</td>\n",
       "      <td>250.0</td>\n",
       "      <td>121.0</td>\n",
       "      <td>81.0</td>\n",
       "      <td>28.73</td>\n",
       "      <td>95.0</td>\n",
       "      <td>76.0</td>\n",
       "      <td>0</td>\n",
       "    </tr>\n",
       "    <tr>\n",
       "      <th>2</th>\n",
       "      <td>1</td>\n",
       "      <td>48</td>\n",
       "      <td>1.0</td>\n",
       "      <td>1</td>\n",
       "      <td>20.0</td>\n",
       "      <td>0.0</td>\n",
       "      <td>0</td>\n",
       "      <td>0</td>\n",
       "      <td>0</td>\n",
       "      <td>245.0</td>\n",
       "      <td>127.5</td>\n",
       "      <td>80.0</td>\n",
       "      <td>25.34</td>\n",
       "      <td>75.0</td>\n",
       "      <td>70.0</td>\n",
       "      <td>0</td>\n",
       "    </tr>\n",
       "    <tr>\n",
       "      <th>3</th>\n",
       "      <td>0</td>\n",
       "      <td>61</td>\n",
       "      <td>3.0</td>\n",
       "      <td>1</td>\n",
       "      <td>30.0</td>\n",
       "      <td>0.0</td>\n",
       "      <td>0</td>\n",
       "      <td>1</td>\n",
       "      <td>0</td>\n",
       "      <td>225.0</td>\n",
       "      <td>150.0</td>\n",
       "      <td>95.0</td>\n",
       "      <td>28.58</td>\n",
       "      <td>65.0</td>\n",
       "      <td>103.0</td>\n",
       "      <td>1</td>\n",
       "    </tr>\n",
       "    <tr>\n",
       "      <th>4</th>\n",
       "      <td>0</td>\n",
       "      <td>46</td>\n",
       "      <td>3.0</td>\n",
       "      <td>1</td>\n",
       "      <td>23.0</td>\n",
       "      <td>0.0</td>\n",
       "      <td>0</td>\n",
       "      <td>0</td>\n",
       "      <td>0</td>\n",
       "      <td>285.0</td>\n",
       "      <td>130.0</td>\n",
       "      <td>84.0</td>\n",
       "      <td>23.10</td>\n",
       "      <td>85.0</td>\n",
       "      <td>85.0</td>\n",
       "      <td>0</td>\n",
       "    </tr>\n",
       "  </tbody>\n",
       "</table>\n",
       "</div>"
      ],
      "text/plain": [
       "   male  age  education  currentSmoker  cigsPerDay  BPMeds  prevalentStroke  \\\n",
       "0     1   39        4.0              0         0.0     0.0                0   \n",
       "1     0   46        2.0              0         0.0     0.0                0   \n",
       "2     1   48        1.0              1        20.0     0.0                0   \n",
       "3     0   61        3.0              1        30.0     0.0                0   \n",
       "4     0   46        3.0              1        23.0     0.0                0   \n",
       "\n",
       "   prevalentHyp  diabetes  totChol  sysBP  diaBP    BMI  heartRate  glucose  \\\n",
       "0             0         0    195.0  106.0   70.0  26.97       80.0     77.0   \n",
       "1             0         0    250.0  121.0   81.0  28.73       95.0     76.0   \n",
       "2             0         0    245.0  127.5   80.0  25.34       75.0     70.0   \n",
       "3             1         0    225.0  150.0   95.0  28.58       65.0    103.0   \n",
       "4             0         0    285.0  130.0   84.0  23.10       85.0     85.0   \n",
       "\n",
       "   TenYearCHD  \n",
       "0           0  \n",
       "1           0  \n",
       "2           0  \n",
       "3           1  \n",
       "4           0  "
      ]
     },
     "execution_count": 3,
     "metadata": {},
     "output_type": "execute_result"
    }
   ],
   "source": [
    "df = pd.read_csv('../input/heart-disease-prediction-using-logistic-regression/framingham.csv')\n",
    "df.head()"
   ]
  },
  {
   "cell_type": "code",
   "execution_count": 4,
   "id": "d67b8658",
   "metadata": {
    "execution": {
     "iopub.execute_input": "2022-07-07T18:59:01.638861Z",
     "iopub.status.busy": "2022-07-07T18:59:01.638446Z",
     "iopub.status.idle": "2022-07-07T18:59:01.646424Z",
     "shell.execute_reply": "2022-07-07T18:59:01.644949Z"
    },
    "papermill": {
     "duration": 0.022528,
     "end_time": "2022-07-07T18:59:01.648476",
     "exception": false,
     "start_time": "2022-07-07T18:59:01.625948",
     "status": "completed"
    },
    "tags": []
   },
   "outputs": [
    {
     "data": {
      "text/plain": [
       "(4238, 16)"
      ]
     },
     "execution_count": 4,
     "metadata": {},
     "output_type": "execute_result"
    }
   ],
   "source": [
    "df.shape"
   ]
  },
  {
   "cell_type": "code",
   "execution_count": 5,
   "id": "1be97783",
   "metadata": {
    "execution": {
     "iopub.execute_input": "2022-07-07T18:59:01.673437Z",
     "iopub.status.busy": "2022-07-07T18:59:01.672594Z",
     "iopub.status.idle": "2022-07-07T18:59:01.699534Z",
     "shell.execute_reply": "2022-07-07T18:59:01.697748Z"
    },
    "papermill": {
     "duration": 0.042593,
     "end_time": "2022-07-07T18:59:01.702369",
     "exception": false,
     "start_time": "2022-07-07T18:59:01.659776",
     "status": "completed"
    },
    "tags": []
   },
   "outputs": [
    {
     "name": "stdout",
     "output_type": "stream",
     "text": [
      "<class 'pandas.core.frame.DataFrame'>\n",
      "RangeIndex: 4238 entries, 0 to 4237\n",
      "Data columns (total 16 columns):\n",
      " #   Column           Non-Null Count  Dtype  \n",
      "---  ------           --------------  -----  \n",
      " 0   male             4238 non-null   int64  \n",
      " 1   age              4238 non-null   int64  \n",
      " 2   education        4133 non-null   float64\n",
      " 3   currentSmoker    4238 non-null   int64  \n",
      " 4   cigsPerDay       4209 non-null   float64\n",
      " 5   BPMeds           4185 non-null   float64\n",
      " 6   prevalentStroke  4238 non-null   int64  \n",
      " 7   prevalentHyp     4238 non-null   int64  \n",
      " 8   diabetes         4238 non-null   int64  \n",
      " 9   totChol          4188 non-null   float64\n",
      " 10  sysBP            4238 non-null   float64\n",
      " 11  diaBP            4238 non-null   float64\n",
      " 12  BMI              4219 non-null   float64\n",
      " 13  heartRate        4237 non-null   float64\n",
      " 14  glucose          3850 non-null   float64\n",
      " 15  TenYearCHD       4238 non-null   int64  \n",
      "dtypes: float64(9), int64(7)\n",
      "memory usage: 529.9 KB\n"
     ]
    }
   ],
   "source": [
    "df.info()"
   ]
  },
  {
   "cell_type": "code",
   "execution_count": 6,
   "id": "f788817c",
   "metadata": {
    "execution": {
     "iopub.execute_input": "2022-07-07T18:59:01.727534Z",
     "iopub.status.busy": "2022-07-07T18:59:01.727044Z",
     "iopub.status.idle": "2022-07-07T18:59:01.789801Z",
     "shell.execute_reply": "2022-07-07T18:59:01.788592Z"
    },
    "papermill": {
     "duration": 0.07785,
     "end_time": "2022-07-07T18:59:01.792195",
     "exception": false,
     "start_time": "2022-07-07T18:59:01.714345",
     "status": "completed"
    },
    "tags": []
   },
   "outputs": [
    {
     "data": {
      "text/html": [
       "<div>\n",
       "<style scoped>\n",
       "    .dataframe tbody tr th:only-of-type {\n",
       "        vertical-align: middle;\n",
       "    }\n",
       "\n",
       "    .dataframe tbody tr th {\n",
       "        vertical-align: top;\n",
       "    }\n",
       "\n",
       "    .dataframe thead th {\n",
       "        text-align: right;\n",
       "    }\n",
       "</style>\n",
       "<table border=\"1\" class=\"dataframe\">\n",
       "  <thead>\n",
       "    <tr style=\"text-align: right;\">\n",
       "      <th></th>\n",
       "      <th>male</th>\n",
       "      <th>age</th>\n",
       "      <th>education</th>\n",
       "      <th>currentSmoker</th>\n",
       "      <th>cigsPerDay</th>\n",
       "      <th>BPMeds</th>\n",
       "      <th>prevalentStroke</th>\n",
       "      <th>prevalentHyp</th>\n",
       "      <th>diabetes</th>\n",
       "      <th>totChol</th>\n",
       "      <th>sysBP</th>\n",
       "      <th>diaBP</th>\n",
       "      <th>BMI</th>\n",
       "      <th>heartRate</th>\n",
       "      <th>glucose</th>\n",
       "      <th>TenYearCHD</th>\n",
       "    </tr>\n",
       "  </thead>\n",
       "  <tbody>\n",
       "    <tr>\n",
       "      <th>count</th>\n",
       "      <td>4238.000000</td>\n",
       "      <td>4238.000000</td>\n",
       "      <td>4133.000000</td>\n",
       "      <td>4238.000000</td>\n",
       "      <td>4209.000000</td>\n",
       "      <td>4185.000000</td>\n",
       "      <td>4238.000000</td>\n",
       "      <td>4238.000000</td>\n",
       "      <td>4238.000000</td>\n",
       "      <td>4188.000000</td>\n",
       "      <td>4238.000000</td>\n",
       "      <td>4238.000000</td>\n",
       "      <td>4219.000000</td>\n",
       "      <td>4237.000000</td>\n",
       "      <td>3850.000000</td>\n",
       "      <td>4238.000000</td>\n",
       "    </tr>\n",
       "    <tr>\n",
       "      <th>mean</th>\n",
       "      <td>0.429212</td>\n",
       "      <td>49.584946</td>\n",
       "      <td>1.978950</td>\n",
       "      <td>0.494101</td>\n",
       "      <td>9.003089</td>\n",
       "      <td>0.029630</td>\n",
       "      <td>0.005899</td>\n",
       "      <td>0.310524</td>\n",
       "      <td>0.025720</td>\n",
       "      <td>236.721585</td>\n",
       "      <td>132.352407</td>\n",
       "      <td>82.893464</td>\n",
       "      <td>25.802008</td>\n",
       "      <td>75.878924</td>\n",
       "      <td>81.966753</td>\n",
       "      <td>0.151958</td>\n",
       "    </tr>\n",
       "    <tr>\n",
       "      <th>std</th>\n",
       "      <td>0.495022</td>\n",
       "      <td>8.572160</td>\n",
       "      <td>1.019791</td>\n",
       "      <td>0.500024</td>\n",
       "      <td>11.920094</td>\n",
       "      <td>0.169584</td>\n",
       "      <td>0.076587</td>\n",
       "      <td>0.462763</td>\n",
       "      <td>0.158316</td>\n",
       "      <td>44.590334</td>\n",
       "      <td>22.038097</td>\n",
       "      <td>11.910850</td>\n",
       "      <td>4.080111</td>\n",
       "      <td>12.026596</td>\n",
       "      <td>23.959998</td>\n",
       "      <td>0.359023</td>\n",
       "    </tr>\n",
       "    <tr>\n",
       "      <th>min</th>\n",
       "      <td>0.000000</td>\n",
       "      <td>32.000000</td>\n",
       "      <td>1.000000</td>\n",
       "      <td>0.000000</td>\n",
       "      <td>0.000000</td>\n",
       "      <td>0.000000</td>\n",
       "      <td>0.000000</td>\n",
       "      <td>0.000000</td>\n",
       "      <td>0.000000</td>\n",
       "      <td>107.000000</td>\n",
       "      <td>83.500000</td>\n",
       "      <td>48.000000</td>\n",
       "      <td>15.540000</td>\n",
       "      <td>44.000000</td>\n",
       "      <td>40.000000</td>\n",
       "      <td>0.000000</td>\n",
       "    </tr>\n",
       "    <tr>\n",
       "      <th>25%</th>\n",
       "      <td>0.000000</td>\n",
       "      <td>42.000000</td>\n",
       "      <td>1.000000</td>\n",
       "      <td>0.000000</td>\n",
       "      <td>0.000000</td>\n",
       "      <td>0.000000</td>\n",
       "      <td>0.000000</td>\n",
       "      <td>0.000000</td>\n",
       "      <td>0.000000</td>\n",
       "      <td>206.000000</td>\n",
       "      <td>117.000000</td>\n",
       "      <td>75.000000</td>\n",
       "      <td>23.070000</td>\n",
       "      <td>68.000000</td>\n",
       "      <td>71.000000</td>\n",
       "      <td>0.000000</td>\n",
       "    </tr>\n",
       "    <tr>\n",
       "      <th>50%</th>\n",
       "      <td>0.000000</td>\n",
       "      <td>49.000000</td>\n",
       "      <td>2.000000</td>\n",
       "      <td>0.000000</td>\n",
       "      <td>0.000000</td>\n",
       "      <td>0.000000</td>\n",
       "      <td>0.000000</td>\n",
       "      <td>0.000000</td>\n",
       "      <td>0.000000</td>\n",
       "      <td>234.000000</td>\n",
       "      <td>128.000000</td>\n",
       "      <td>82.000000</td>\n",
       "      <td>25.400000</td>\n",
       "      <td>75.000000</td>\n",
       "      <td>78.000000</td>\n",
       "      <td>0.000000</td>\n",
       "    </tr>\n",
       "    <tr>\n",
       "      <th>75%</th>\n",
       "      <td>1.000000</td>\n",
       "      <td>56.000000</td>\n",
       "      <td>3.000000</td>\n",
       "      <td>1.000000</td>\n",
       "      <td>20.000000</td>\n",
       "      <td>0.000000</td>\n",
       "      <td>0.000000</td>\n",
       "      <td>1.000000</td>\n",
       "      <td>0.000000</td>\n",
       "      <td>263.000000</td>\n",
       "      <td>144.000000</td>\n",
       "      <td>89.875000</td>\n",
       "      <td>28.040000</td>\n",
       "      <td>83.000000</td>\n",
       "      <td>87.000000</td>\n",
       "      <td>0.000000</td>\n",
       "    </tr>\n",
       "    <tr>\n",
       "      <th>max</th>\n",
       "      <td>1.000000</td>\n",
       "      <td>70.000000</td>\n",
       "      <td>4.000000</td>\n",
       "      <td>1.000000</td>\n",
       "      <td>70.000000</td>\n",
       "      <td>1.000000</td>\n",
       "      <td>1.000000</td>\n",
       "      <td>1.000000</td>\n",
       "      <td>1.000000</td>\n",
       "      <td>696.000000</td>\n",
       "      <td>295.000000</td>\n",
       "      <td>142.500000</td>\n",
       "      <td>56.800000</td>\n",
       "      <td>143.000000</td>\n",
       "      <td>394.000000</td>\n",
       "      <td>1.000000</td>\n",
       "    </tr>\n",
       "  </tbody>\n",
       "</table>\n",
       "</div>"
      ],
      "text/plain": [
       "              male          age    education  currentSmoker   cigsPerDay  \\\n",
       "count  4238.000000  4238.000000  4133.000000    4238.000000  4209.000000   \n",
       "mean      0.429212    49.584946     1.978950       0.494101     9.003089   \n",
       "std       0.495022     8.572160     1.019791       0.500024    11.920094   \n",
       "min       0.000000    32.000000     1.000000       0.000000     0.000000   \n",
       "25%       0.000000    42.000000     1.000000       0.000000     0.000000   \n",
       "50%       0.000000    49.000000     2.000000       0.000000     0.000000   \n",
       "75%       1.000000    56.000000     3.000000       1.000000    20.000000   \n",
       "max       1.000000    70.000000     4.000000       1.000000    70.000000   \n",
       "\n",
       "            BPMeds  prevalentStroke  prevalentHyp     diabetes      totChol  \\\n",
       "count  4185.000000      4238.000000   4238.000000  4238.000000  4188.000000   \n",
       "mean      0.029630         0.005899      0.310524     0.025720   236.721585   \n",
       "std       0.169584         0.076587      0.462763     0.158316    44.590334   \n",
       "min       0.000000         0.000000      0.000000     0.000000   107.000000   \n",
       "25%       0.000000         0.000000      0.000000     0.000000   206.000000   \n",
       "50%       0.000000         0.000000      0.000000     0.000000   234.000000   \n",
       "75%       0.000000         0.000000      1.000000     0.000000   263.000000   \n",
       "max       1.000000         1.000000      1.000000     1.000000   696.000000   \n",
       "\n",
       "             sysBP        diaBP          BMI    heartRate      glucose  \\\n",
       "count  4238.000000  4238.000000  4219.000000  4237.000000  3850.000000   \n",
       "mean    132.352407    82.893464    25.802008    75.878924    81.966753   \n",
       "std      22.038097    11.910850     4.080111    12.026596    23.959998   \n",
       "min      83.500000    48.000000    15.540000    44.000000    40.000000   \n",
       "25%     117.000000    75.000000    23.070000    68.000000    71.000000   \n",
       "50%     128.000000    82.000000    25.400000    75.000000    78.000000   \n",
       "75%     144.000000    89.875000    28.040000    83.000000    87.000000   \n",
       "max     295.000000   142.500000    56.800000   143.000000   394.000000   \n",
       "\n",
       "        TenYearCHD  \n",
       "count  4238.000000  \n",
       "mean      0.151958  \n",
       "std       0.359023  \n",
       "min       0.000000  \n",
       "25%       0.000000  \n",
       "50%       0.000000  \n",
       "75%       0.000000  \n",
       "max       1.000000  "
      ]
     },
     "execution_count": 6,
     "metadata": {},
     "output_type": "execute_result"
    }
   ],
   "source": [
    "df.describe()"
   ]
  },
  {
   "cell_type": "code",
   "execution_count": 7,
   "id": "97a9ebb5",
   "metadata": {
    "execution": {
     "iopub.execute_input": "2022-07-07T18:59:01.818648Z",
     "iopub.status.busy": "2022-07-07T18:59:01.817516Z",
     "iopub.status.idle": "2022-07-07T18:59:01.827655Z",
     "shell.execute_reply": "2022-07-07T18:59:01.826422Z"
    },
    "papermill": {
     "duration": 0.025194,
     "end_time": "2022-07-07T18:59:01.830104",
     "exception": false,
     "start_time": "2022-07-07T18:59:01.804910",
     "status": "completed"
    },
    "tags": []
   },
   "outputs": [
    {
     "data": {
      "text/plain": [
       "male                 0\n",
       "age                  0\n",
       "education          105\n",
       "currentSmoker        0\n",
       "cigsPerDay          29\n",
       "BPMeds              53\n",
       "prevalentStroke      0\n",
       "prevalentHyp         0\n",
       "diabetes             0\n",
       "totChol             50\n",
       "sysBP                0\n",
       "diaBP                0\n",
       "BMI                 19\n",
       "heartRate            1\n",
       "glucose            388\n",
       "TenYearCHD           0\n",
       "dtype: int64"
      ]
     },
     "execution_count": 7,
     "metadata": {},
     "output_type": "execute_result"
    }
   ],
   "source": [
    "df.isnull().sum()"
   ]
  },
  {
   "cell_type": "code",
   "execution_count": 8,
   "id": "f37f9751",
   "metadata": {
    "execution": {
     "iopub.execute_input": "2022-07-07T18:59:01.855359Z",
     "iopub.status.busy": "2022-07-07T18:59:01.854850Z",
     "iopub.status.idle": "2022-07-07T18:59:01.861872Z",
     "shell.execute_reply": "2022-07-07T18:59:01.861037Z"
    },
    "papermill": {
     "duration": 0.022249,
     "end_time": "2022-07-07T18:59:01.863989",
     "exception": false,
     "start_time": "2022-07-07T18:59:01.841740",
     "status": "completed"
    },
    "tags": []
   },
   "outputs": [],
   "source": [
    "X = df.drop('TenYearCHD', axis = 1)\n",
    "y = df['TenYearCHD']"
   ]
  },
  {
   "cell_type": "code",
   "execution_count": 9,
   "id": "f29e3f8f",
   "metadata": {
    "execution": {
     "iopub.execute_input": "2022-07-07T18:59:01.889911Z",
     "iopub.status.busy": "2022-07-07T18:59:01.888996Z",
     "iopub.status.idle": "2022-07-07T18:59:01.906550Z",
     "shell.execute_reply": "2022-07-07T18:59:01.905332Z"
    },
    "papermill": {
     "duration": 0.032886,
     "end_time": "2022-07-07T18:59:01.908977",
     "exception": false,
     "start_time": "2022-07-07T18:59:01.876091",
     "status": "completed"
    },
    "tags": []
   },
   "outputs": [
    {
     "data": {
      "text/plain": [
       "male               0\n",
       "age                0\n",
       "education          0\n",
       "currentSmoker      0\n",
       "cigsPerDay         0\n",
       "BPMeds             0\n",
       "prevalentStroke    0\n",
       "prevalentHyp       0\n",
       "diabetes           0\n",
       "totChol            0\n",
       "sysBP              0\n",
       "diaBP              0\n",
       "BMI                0\n",
       "heartRate          0\n",
       "glucose            0\n",
       "dtype: int64"
      ]
     },
     "execution_count": 9,
     "metadata": {},
     "output_type": "execute_result"
    }
   ],
   "source": [
    "X = X.apply(lambda x: x.fillna(x.mean()),axis=0)\n",
    "X.isnull().sum(axis = 0)"
   ]
  },
  {
   "cell_type": "code",
   "execution_count": 10,
   "id": "7730e632",
   "metadata": {
    "execution": {
     "iopub.execute_input": "2022-07-07T18:59:01.934423Z",
     "iopub.status.busy": "2022-07-07T18:59:01.933939Z",
     "iopub.status.idle": "2022-07-07T18:59:02.137900Z",
     "shell.execute_reply": "2022-07-07T18:59:02.136790Z"
    },
    "papermill": {
     "duration": 0.219911,
     "end_time": "2022-07-07T18:59:02.140623",
     "exception": false,
     "start_time": "2022-07-07T18:59:01.920712",
     "status": "completed"
    },
    "tags": []
   },
   "outputs": [],
   "source": [
    "from sklearn.model_selection import train_test_split\n",
    "X_train, X_test, y_train, y_test = train_test_split(X, y, test_size=0.33, random_state=42)"
   ]
  },
  {
   "cell_type": "code",
   "execution_count": 11,
   "id": "1ad833c9",
   "metadata": {
    "execution": {
     "iopub.execute_input": "2022-07-07T18:59:02.167261Z",
     "iopub.status.busy": "2022-07-07T18:59:02.166872Z",
     "iopub.status.idle": "2022-07-07T18:59:02.350575Z",
     "shell.execute_reply": "2022-07-07T18:59:02.349320Z"
    },
    "papermill": {
     "duration": 0.20109,
     "end_time": "2022-07-07T18:59:02.353431",
     "exception": false,
     "start_time": "2022-07-07T18:59:02.152341",
     "status": "completed"
    },
    "tags": []
   },
   "outputs": [
    {
     "name": "stderr",
     "output_type": "stream",
     "text": [
      "/opt/conda/lib/python3.7/site-packages/sklearn/linear_model/_logistic.py:818: ConvergenceWarning: lbfgs failed to converge (status=1):\n",
      "STOP: TOTAL NO. of ITERATIONS REACHED LIMIT.\n",
      "\n",
      "Increase the number of iterations (max_iter) or scale the data as shown in:\n",
      "    https://scikit-learn.org/stable/modules/preprocessing.html\n",
      "Please also refer to the documentation for alternative solver options:\n",
      "    https://scikit-learn.org/stable/modules/linear_model.html#logistic-regression\n",
      "  extra_warning_msg=_LOGISTIC_SOLVER_CONVERGENCE_MSG,\n"
     ]
    },
    {
     "data": {
      "text/plain": [
       "LogisticRegression()"
      ]
     },
     "execution_count": 11,
     "metadata": {},
     "output_type": "execute_result"
    }
   ],
   "source": [
    "from sklearn.linear_model import LogisticRegression\n",
    "log_reg = LogisticRegression()\n",
    "# training the model\n",
    "log_reg.fit(X_train, y_train)"
   ]
  },
  {
   "cell_type": "code",
   "execution_count": 12,
   "id": "9e8c175d",
   "metadata": {
    "execution": {
     "iopub.execute_input": "2022-07-07T18:59:02.399110Z",
     "iopub.status.busy": "2022-07-07T18:59:02.398405Z",
     "iopub.status.idle": "2022-07-07T18:59:02.412031Z",
     "shell.execute_reply": "2022-07-07T18:59:02.410706Z"
    },
    "papermill": {
     "duration": 0.041351,
     "end_time": "2022-07-07T18:59:02.416512",
     "exception": false,
     "start_time": "2022-07-07T18:59:02.375161",
     "status": "completed"
    },
    "tags": []
   },
   "outputs": [],
   "source": [
    "y_pred = log_reg.predict(X_test)"
   ]
  },
  {
   "cell_type": "code",
   "execution_count": 13,
   "id": "d25f47e1",
   "metadata": {
    "execution": {
     "iopub.execute_input": "2022-07-07T18:59:02.462891Z",
     "iopub.status.busy": "2022-07-07T18:59:02.462299Z",
     "iopub.status.idle": "2022-07-07T18:59:02.486761Z",
     "shell.execute_reply": "2022-07-07T18:59:02.484286Z"
    },
    "papermill": {
     "duration": 0.052978,
     "end_time": "2022-07-07T18:59:02.491819",
     "exception": false,
     "start_time": "2022-07-07T18:59:02.438841",
     "status": "completed"
    },
    "tags": []
   },
   "outputs": [
    {
     "name": "stdout",
     "output_type": "stream",
     "text": [
      "Train Score is :  0.8460725607608313\n",
      "Test Score is :  0.8577555396711937\n"
     ]
    }
   ],
   "source": [
    "print('Train Score is : ' , log_reg.score(X_train, y_train))\n",
    "print('Test Score is : ' , log_reg.score(X_test, y_test))"
   ]
  },
  {
   "cell_type": "code",
   "execution_count": 14,
   "id": "5c97be7a",
   "metadata": {
    "execution": {
     "iopub.execute_input": "2022-07-07T18:59:02.537631Z",
     "iopub.status.busy": "2022-07-07T18:59:02.537028Z",
     "iopub.status.idle": "2022-07-07T18:59:02.563554Z",
     "shell.execute_reply": "2022-07-07T18:59:02.561184Z"
    },
    "papermill": {
     "duration": 0.054056,
     "end_time": "2022-07-07T18:59:02.567833",
     "exception": false,
     "start_time": "2022-07-07T18:59:02.513777",
     "status": "completed"
    },
    "tags": []
   },
   "outputs": [
    {
     "name": "stdout",
     "output_type": "stream",
     "text": [
      "Classification Report is: \n",
      " \n",
      "               precision    recall  f1-score   support\n",
      "\n",
      "           0       0.86      0.99      0.92      1194\n",
      "           1       0.67      0.06      0.11       205\n",
      "\n",
      "    accuracy                           0.86      1399\n",
      "   macro avg       0.76      0.53      0.52      1399\n",
      "weighted avg       0.83      0.86      0.80      1399\n",
      "\n"
     ]
    }
   ],
   "source": [
    "from sklearn.metrics import classification_report\n",
    "\n",
    "print('Classification Report is: \\n \\n' , classification_report(y_test, y_pred ))"
   ]
  },
  {
   "cell_type": "code",
   "execution_count": 15,
   "id": "e22150f4",
   "metadata": {
    "execution": {
     "iopub.execute_input": "2022-07-07T18:59:02.608793Z",
     "iopub.status.busy": "2022-07-07T18:59:02.608422Z",
     "iopub.status.idle": "2022-07-07T18:59:03.101904Z",
     "shell.execute_reply": "2022-07-07T18:59:03.100851Z"
    },
    "papermill": {
     "duration": 0.51426,
     "end_time": "2022-07-07T18:59:03.104629",
     "exception": false,
     "start_time": "2022-07-07T18:59:02.590369",
     "status": "completed"
    },
    "tags": []
   },
   "outputs": [
    {
     "name": "stdout",
     "output_type": "stream",
     "text": [
      "The accuracy score is: 0.8577555396711937\n",
      "\n",
      " Confusion matrix \n",
      " \n",
      " [[1188    6]\n",
      " [ 193   12]]\n",
      "              precision    recall  f1-score   support\n",
      "\n",
      "           0       0.86      0.99      0.92      1194\n",
      "           1       0.67      0.06      0.11       205\n",
      "\n",
      "    accuracy                           0.86      1399\n",
      "   macro avg       0.76      0.53      0.52      1399\n",
      "weighted avg       0.83      0.86      0.80      1399\n",
      "\n"
     ]
    },
    {
     "name": "stderr",
     "output_type": "stream",
     "text": [
      "/opt/conda/lib/python3.7/site-packages/sklearn/utils/deprecation.py:87: FutureWarning: Function plot_confusion_matrix is deprecated; Function `plot_confusion_matrix` is deprecated in 1.0 and will be removed in 1.2. Use one of the class methods: ConfusionMatrixDisplay.from_predictions or ConfusionMatrixDisplay.from_estimator.\n",
      "  warnings.warn(msg, category=FutureWarning)\n"
     ]
    },
    {
     "data": {
      "image/png": "[encoded data removed]",
      "text/plain": [
       "<Figure size 432x288 with 2 Axes>"
      ]
     },
     "metadata": {
      "needs_background": "light"
     },
     "output_type": "display_data"
    },
    {
     "data": {
      "image/png": "[encoded data removed]",
      "text/plain": [
       "<Figure size 432x288 with 2 Axes>"
      ]
     },
     "metadata": {
      "needs_background": "light"
     },
     "output_type": "display_data"
    }
   ],
   "source": [
    "from sklearn.metrics import accuracy_score\n",
    "from sklearn.metrics import confusion_matrix, plot_confusion_matrix, ConfusionMatrixDisplay\n",
    "\n",
    "print('The accuracy score is:', accuracy_score(y_test, y_pred)) # accuracy score\n",
    "\n",
    "cm = confusion_matrix(y_test, y_pred) # Confusion matrix \n",
    "print('\\n Confusion matrix \\n \\n', cm)\n",
    "print(classification_report(y_test, y_pred ))\n",
    "\n",
    "plot_confusion_matrix(log_reg, X_test, y_test) # old plotting method\n",
    "plt.show()\n",
    "\n",
    "disp = ConfusionMatrixDisplay(cm, display_labels=log_reg.classes_) # new plotting method \n",
    "disp.plot()\n",
    "plt.show()"
   ]
  },
  {
   "cell_type": "code",
   "execution_count": 16,
   "id": "023eed3c",
   "metadata": {
    "execution": {
     "iopub.execute_input": "2022-07-07T18:59:03.132823Z",
     "iopub.status.busy": "2022-07-07T18:59:03.131606Z",
     "iopub.status.idle": "2022-07-07T18:59:03.142662Z",
     "shell.execute_reply": "2022-07-07T18:59:03.141420Z"
    },
    "papermill": {
     "duration": 0.028129,
     "end_time": "2022-07-07T18:59:03.145790",
     "exception": false,
     "start_time": "2022-07-07T18:59:03.117661",
     "status": "completed"
    },
    "tags": []
   },
   "outputs": [
    {
     "name": "stdout",
     "output_type": "stream",
     "text": [
      "0.5267557298688565\n"
     ]
    }
   ],
   "source": [
    "from sklearn import metrics\n",
    "from sklearn.metrics import roc_curve, auc \n",
    "\n",
    "size = metrics.roc_auc_score(y_test, y_pred)\n",
    "print(size)"
   ]
  },
  {
   "cell_type": "code",
   "execution_count": 17,
   "id": "352c21b5",
   "metadata": {
    "execution": {
     "iopub.execute_input": "2022-07-07T18:59:03.173110Z",
     "iopub.status.busy": "2022-07-07T18:59:03.172748Z",
     "iopub.status.idle": "2022-07-07T18:59:03.409275Z",
     "shell.execute_reply": "2022-07-07T18:59:03.408342Z"
    },
    "papermill": {
     "duration": 0.252655,
     "end_time": "2022-07-07T18:59:03.411560",
     "exception": false,
     "start_time": "2022-07-07T18:59:03.158905",
     "status": "completed"
    },
    "tags": []
   },
   "outputs": [
    {
     "data": {
      "text/plain": [
       "Text(0.5, 1.0, 'Receiver operating characteristic example')"
      ]
     },
     "execution_count": 17,
     "metadata": {},
     "output_type": "execute_result"
    },
    {
     "data": {
      "image/png": "[encoded data removed]",
      "text/plain": [
       "<Figure size 720x576 with 1 Axes>"
      ]
     },
     "metadata": {
      "needs_background": "light"
     },
     "output_type": "display_data"
    }
   ],
   "source": [
    "plt.figure(figsize=(10,8))\n",
    "probas_ = log_reg.predict_proba(X_test)\n",
    "fpr, tpr, thresholds = roc_curve(y_test, probas_[:, 1])\n",
    "roc_auc = auc(fpr, tpr)\n",
    "plt.plot(fpr, tpr, lw=1, label='ROC fold (area = %0.2f)' % (roc_auc))\n",
    "plt.plot([0, 1], [0, 1], '--', color=(0.6, 0.6, 0.6), label='Random')\n",
    "plt.xlim([-0.05, 1.05])\n",
    "plt.ylim([-0.05, 1.05])\n",
    "plt.xlabel('False Positive Rate')\n",
    "plt.ylabel('True Positive Rate')\n",
    "plt.title('Receiver operating characteristic example')"
   ]
  },
  {
   "cell_type": "code",
   "execution_count": 18,
   "id": "1a183d60",
   "metadata": {
    "execution": {
     "iopub.execute_input": "2022-07-07T18:59:03.441022Z",
     "iopub.status.busy": "2022-07-07T18:59:03.440103Z",
     "iopub.status.idle": "2022-07-07T18:59:03.507763Z",
     "shell.execute_reply": "2022-07-07T18:59:03.506533Z"
    },
    "papermill": {
     "duration": 0.084924,
     "end_time": "2022-07-07T18:59:03.510138",
     "exception": false,
     "start_time": "2022-07-07T18:59:03.425214",
     "status": "completed"
    },
    "tags": []
   },
   "outputs": [
    {
     "data": {
      "text/plain": [
       "KNeighborsClassifier()"
      ]
     },
     "execution_count": 18,
     "metadata": {},
     "output_type": "execute_result"
    }
   ],
   "source": [
    "from sklearn.neighbors import KNeighborsClassifier\n",
    "\n",
    "knn = KNeighborsClassifier() # build the model\n",
    "knn.fit(X_train, y_train)"
   ]
  },
  {
   "cell_type": "code",
   "execution_count": 19,
   "id": "79cf44f1",
   "metadata": {
    "execution": {
     "iopub.execute_input": "2022-07-07T18:59:03.538613Z",
     "iopub.status.busy": "2022-07-07T18:59:03.538213Z",
     "iopub.status.idle": "2022-07-07T18:59:03.620283Z",
     "shell.execute_reply": "2022-07-07T18:59:03.619302Z"
    },
    "papermill": {
     "duration": 0.099583,
     "end_time": "2022-07-07T18:59:03.623129",
     "exception": false,
     "start_time": "2022-07-07T18:59:03.523546",
     "status": "completed"
    },
    "tags": []
   },
   "outputs": [],
   "source": [
    "y_pred = knn.predict(X_test)"
   ]
  },
  {
   "cell_type": "code",
   "execution_count": 20,
   "id": "ca6536f0",
   "metadata": {
    "execution": {
     "iopub.execute_input": "2022-07-07T18:59:03.652748Z",
     "iopub.status.busy": "2022-07-07T18:59:03.652367Z",
     "iopub.status.idle": "2022-07-07T18:59:03.885698Z",
     "shell.execute_reply": "2022-07-07T18:59:03.884136Z"
    },
    "papermill": {
     "duration": 0.251344,
     "end_time": "2022-07-07T18:59:03.888208",
     "exception": false,
     "start_time": "2022-07-07T18:59:03.636864",
     "status": "completed"
    },
    "tags": []
   },
   "outputs": [
    {
     "name": "stdout",
     "output_type": "stream",
     "text": [
      "Train Score is :  0.8594575554772808\n",
      "Test Score is :  0.8334524660471766\n"
     ]
    }
   ],
   "source": [
    "print('Train Score is : ' , knn.score(X_train, y_train))\n",
    "print('Test Score is : ' , knn.score(X_test, y_test))"
   ]
  },
  {
   "cell_type": "code",
   "execution_count": 21,
   "id": "fe083204",
   "metadata": {
    "execution": {
     "iopub.execute_input": "2022-07-07T18:59:03.917672Z",
     "iopub.status.busy": "2022-07-07T18:59:03.917206Z",
     "iopub.status.idle": "2022-07-07T18:59:03.930820Z",
     "shell.execute_reply": "2022-07-07T18:59:03.929313Z"
    },
    "papermill": {
     "duration": 0.031368,
     "end_time": "2022-07-07T18:59:03.933277",
     "exception": false,
     "start_time": "2022-07-07T18:59:03.901909",
     "status": "completed"
    },
    "tags": []
   },
   "outputs": [
    {
     "name": "stdout",
     "output_type": "stream",
     "text": [
      "Classification Report is: \n",
      " \n",
      "               precision    recall  f1-score   support\n",
      "\n",
      "           0       0.86      0.96      0.91      1194\n",
      "           1       0.29      0.10      0.15       205\n",
      "\n",
      "    accuracy                           0.83      1399\n",
      "   macro avg       0.58      0.53      0.53      1399\n",
      "weighted avg       0.78      0.83      0.80      1399\n",
      "\n"
     ]
    }
   ],
   "source": [
    "from sklearn.metrics import classification_report\n",
    "\n",
    "print('Classification Report is: \\n \\n' , classification_report(y_test, y_pred ))"
   ]
  },
  {
   "cell_type": "code",
   "execution_count": 22,
   "id": "53b0b7d7",
   "metadata": {
    "execution": {
     "iopub.execute_input": "2022-07-07T18:59:03.964377Z",
     "iopub.status.busy": "2022-07-07T18:59:03.963974Z",
     "iopub.status.idle": "2022-07-07T18:59:04.466087Z",
     "shell.execute_reply": "2022-07-07T18:59:04.464783Z"
    },
    "papermill": {
     "duration": 0.52148,
     "end_time": "2022-07-07T18:59:04.468775",
     "exception": false,
     "start_time": "2022-07-07T18:59:03.947295",
     "status": "completed"
    },
    "tags": []
   },
   "outputs": [
    {
     "name": "stdout",
     "output_type": "stream",
     "text": [
      "The accuracy score is: 0.8334524660471766\n",
      "\n",
      " Confusion matrix \n",
      " \n",
      " [[1146   48]\n",
      " [ 185   20]]\n",
      "              precision    recall  f1-score   support\n",
      "\n",
      "           0       0.86      0.96      0.91      1194\n",
      "           1       0.29      0.10      0.15       205\n",
      "\n",
      "    accuracy                           0.83      1399\n",
      "   macro avg       0.58      0.53      0.53      1399\n",
      "weighted avg       0.78      0.83      0.80      1399\n",
      "\n"
     ]
    },
    {
     "name": "stderr",
     "output_type": "stream",
     "text": [
      "/opt/conda/lib/python3.7/site-packages/sklearn/utils/deprecation.py:87: FutureWarning: Function plot_confusion_matrix is deprecated; Function `plot_confusion_matrix` is deprecated in 1.0 and will be removed in 1.2. Use one of the class methods: ConfusionMatrixDisplay.from_predictions or ConfusionMatrixDisplay.from_estimator.\n",
      "  warnings.warn(msg, category=FutureWarning)\n"
     ]
    },
    {
     "data": {
      "image/png": "[encoded data removed]",
      "text/plain": [
       "<Figure size 432x288 with 2 Axes>"
      ]
     },
     "metadata": {
      "needs_background": "light"
     },
     "output_type": "display_data"
    },
    {
     "data": {
      "image/png": "[encoded data removed]",
      "text/plain": [
       "<Figure size 432x288 with 2 Axes>"
      ]
     },
     "metadata": {
      "needs_background": "light"
     },
     "output_type": "display_data"
    }
   ],
   "source": [
    "from sklearn.metrics import accuracy_score\n",
    "from sklearn.metrics import confusion_matrix, plot_confusion_matrix, ConfusionMatrixDisplay\n",
    "\n",
    "print('The accuracy score is:', accuracy_score(y_test, y_pred)) # accuracy score\n",
    "\n",
    "cm = confusion_matrix(y_test, y_pred) # Confusion matrix \n",
    "print('\\n Confusion matrix \\n \\n', cm)\n",
    "print(classification_report(y_test, y_pred ))\n",
    "\n",
    "plot_confusion_matrix(knn, X_test, y_test) # old plotting method\n",
    "plt.show()\n",
    "\n",
    "disp = ConfusionMatrixDisplay(cm, display_labels=knn.classes_) # new plotting method \n",
    "disp.plot()\n",
    "plt.show()"
   ]
  },
  {
   "cell_type": "code",
   "execution_count": 23,
   "id": "a0abec85",
   "metadata": {
    "execution": {
     "iopub.execute_input": "2022-07-07T18:59:04.499492Z",
     "iopub.status.busy": "2022-07-07T18:59:04.499036Z",
     "iopub.status.idle": "2022-07-07T18:59:04.506881Z",
     "shell.execute_reply": "2022-07-07T18:59:04.506046Z"
    },
    "papermill": {
     "duration": 0.02746,
     "end_time": "2022-07-07T18:59:04.510789",
     "exception": false,
     "start_time": "2022-07-07T18:59:04.483329",
     "status": "completed"
    },
    "tags": []
   },
   "outputs": [
    {
     "name": "stdout",
     "output_type": "stream",
     "text": [
      "0.5286799852923153\n"
     ]
    }
   ],
   "source": [
    "from sklearn import metrics\n",
    "from sklearn.metrics import roc_curve, auc \n",
    "\n",
    "size = metrics.roc_auc_score(y_test, y_pred)\n",
    "print(size)"
   ]
  },
  {
   "cell_type": "code",
   "execution_count": 24,
   "id": "2eb6b584",
   "metadata": {
    "execution": {
     "iopub.execute_input": "2022-07-07T18:59:04.543089Z",
     "iopub.status.busy": "2022-07-07T18:59:04.542663Z",
     "iopub.status.idle": "2022-07-07T18:59:04.785753Z",
     "shell.execute_reply": "2022-07-07T18:59:04.784990Z"
    },
    "papermill": {
     "duration": 0.261516,
     "end_time": "2022-07-07T18:59:04.787861",
     "exception": false,
     "start_time": "2022-07-07T18:59:04.526345",
     "status": "completed"
    },
    "tags": []
   },
   "outputs": [
    {
     "data": {
      "text/plain": [
       "Text(0.5, 1.0, 'Receiver operating characteristic example')"
      ]
     },
     "execution_count": 24,
     "metadata": {},
     "output_type": "execute_result"
    },
    {
     "data": {
      "image/png": "[encoded data removed]",
      "text/plain": [
       "<Figure size 720x576 with 1 Axes>"
      ]
     },
     "metadata": {
      "needs_background": "light"
     },
     "output_type": "display_data"
    }
   ],
   "source": [
    "plt.figure(figsize=(10,8))\n",
    "probas_ = knn.predict_proba(X_test)\n",
    "fpr, tpr, thresholds = roc_curve(y_test, probas_[:, 1])\n",
    "roc_auc = auc(fpr, tpr)\n",
    "plt.plot(fpr, tpr, lw=1, label='ROC fold (area = %0.2f)' % (roc_auc))\n",
    "plt.plot([0, 1], [0, 1], '--', color=(0.6, 0.6, 0.6), label='Random')\n",
    "plt.xlim([-0.05, 1.05])\n",
    "plt.ylim([-0.05, 1.05])\n",
    "plt.xlabel('False Positive Rate')\n",
    "plt.ylabel('True Positive Rate')\n",
    "plt.title('Receiver operating characteristic example')\n",
    "\n",
    "\n",
    "\n",
    "\n",
    "\n",
    "\n",
    "\n"
   ]
  },
  {
   "cell_type": "markdown",
   "id": "3552def6",
   "metadata": {
    "papermill": {
     "duration": 0.015017,
     "end_time": "2022-07-07T18:59:04.818364",
     "exception": false,
     "start_time": "2022-07-07T18:59:04.803347",
     "status": "completed"
    },
    "tags": []
   },
   "source": []
  },
  {
   "cell_type": "markdown",
   "id": "7c40b276",
   "metadata": {
    "papermill": {
     "duration": 0.014956,
     "end_time": "2022-07-07T18:59:04.848740",
     "exception": false,
     "start_time": "2022-07-07T18:59:04.833784",
     "status": "completed"
    },
    "tags": []
   },
   "source": []
  },
  {
   "cell_type": "code",
   "execution_count": 25,
   "id": "fcba87d1",
   "metadata": {
    "execution": {
     "iopub.execute_input": "2022-07-07T18:59:04.882893Z",
     "iopub.status.busy": "2022-07-07T18:59:04.882168Z",
     "iopub.status.idle": "2022-07-07T18:59:06.254054Z",
     "shell.execute_reply": "2022-07-07T18:59:06.252792Z"
    },
    "papermill": {
     "duration": 1.39166,
     "end_time": "2022-07-07T18:59:06.256629",
     "exception": false,
     "start_time": "2022-07-07T18:59:04.864969",
     "status": "completed"
    },
    "tags": []
   },
   "outputs": [
    {
     "data": {
      "text/plain": [
       "SVC(probability=True)"
      ]
     },
     "execution_count": 25,
     "metadata": {},
     "output_type": "execute_result"
    }
   ],
   "source": [
    "from sklearn.svm import SVC \n",
    "svm = SVC(probability=True) # build the model\n",
    "svm.fit(X_train, y_train)"
   ]
  },
  {
   "cell_type": "code",
   "execution_count": 26,
   "id": "a6f0fc78",
   "metadata": {
    "execution": {
     "iopub.execute_input": "2022-07-07T18:59:06.291461Z",
     "iopub.status.busy": "2022-07-07T18:59:06.290705Z",
     "iopub.status.idle": "2022-07-07T18:59:06.389785Z",
     "shell.execute_reply": "2022-07-07T18:59:06.388855Z"
    },
    "papermill": {
     "duration": 0.119701,
     "end_time": "2022-07-07T18:59:06.392236",
     "exception": false,
     "start_time": "2022-07-07T18:59:06.272535",
     "status": "completed"
    },
    "tags": []
   },
   "outputs": [],
   "source": [
    "y_pred = svm.predict(X_test)"
   ]
  },
  {
   "cell_type": "code",
   "execution_count": 27,
   "id": "79b16f2b",
   "metadata": {
    "execution": {
     "iopub.execute_input": "2022-07-07T18:59:06.425738Z",
     "iopub.status.busy": "2022-07-07T18:59:06.425130Z",
     "iopub.status.idle": "2022-07-07T18:59:06.726896Z",
     "shell.execute_reply": "2022-07-07T18:59:06.725557Z"
    },
    "papermill": {
     "duration": 0.32127,
     "end_time": "2022-07-07T18:59:06.729420",
     "exception": false,
     "start_time": "2022-07-07T18:59:06.408150",
     "status": "completed"
    },
    "tags": []
   },
   "outputs": [
    {
     "name": "stdout",
     "output_type": "stream",
     "text": [
      "Train Score is :  0.8467770341669602\n",
      "Test Score is :  0.8527519656897784\n"
     ]
    }
   ],
   "source": [
    "print('Train Score is : ' , svm.score(X_train, y_train))\n",
    "print('Test Score is : ' , svm.score(X_test, y_test))"
   ]
  },
  {
   "cell_type": "code",
   "execution_count": 28,
   "id": "225bd027",
   "metadata": {
    "execution": {
     "iopub.execute_input": "2022-07-07T18:59:06.763767Z",
     "iopub.status.busy": "2022-07-07T18:59:06.762988Z",
     "iopub.status.idle": "2022-07-07T18:59:06.776428Z",
     "shell.execute_reply": "2022-07-07T18:59:06.775024Z"
    },
    "papermill": {
     "duration": 0.034134,
     "end_time": "2022-07-07T18:59:06.779645",
     "exception": false,
     "start_time": "2022-07-07T18:59:06.745511",
     "status": "completed"
    },
    "tags": []
   },
   "outputs": [
    {
     "name": "stdout",
     "output_type": "stream",
     "text": [
      "Classification Report is: \n",
      " \n",
      "               precision    recall  f1-score   support\n",
      "\n",
      "           0       0.85      1.00      0.92      1194\n",
      "           1       0.40      0.01      0.02       205\n",
      "\n",
      "    accuracy                           0.85      1399\n",
      "   macro avg       0.63      0.50      0.47      1399\n",
      "weighted avg       0.79      0.85      0.79      1399\n",
      "\n"
     ]
    }
   ],
   "source": [
    "from sklearn.metrics import classification_report\n",
    "\n",
    "print('Classification Report is: \\n \\n' , classification_report(y_test, y_pred ))"
   ]
  },
  {
   "cell_type": "code",
   "execution_count": 29,
   "id": "19d1eda5",
   "metadata": {
    "execution": {
     "iopub.execute_input": "2022-07-07T18:59:06.814067Z",
     "iopub.status.busy": "2022-07-07T18:59:06.813212Z",
     "iopub.status.idle": "2022-07-07T18:59:07.338197Z",
     "shell.execute_reply": "2022-07-07T18:59:07.336854Z"
    },
    "papermill": {
     "duration": 0.545335,
     "end_time": "2022-07-07T18:59:07.340910",
     "exception": false,
     "start_time": "2022-07-07T18:59:06.795575",
     "status": "completed"
    },
    "tags": []
   },
   "outputs": [
    {
     "name": "stdout",
     "output_type": "stream",
     "text": [
      "The accuracy score is: 0.8527519656897784\n",
      "\n",
      " Confusion matrix \n",
      " \n",
      " [[1191    3]\n",
      " [ 203    2]]\n",
      "              precision    recall  f1-score   support\n",
      "\n",
      "           0       0.85      1.00      0.92      1194\n",
      "           1       0.40      0.01      0.02       205\n",
      "\n",
      "    accuracy                           0.85      1399\n",
      "   macro avg       0.63      0.50      0.47      1399\n",
      "weighted avg       0.79      0.85      0.79      1399\n",
      "\n"
     ]
    },
    {
     "name": "stderr",
     "output_type": "stream",
     "text": [
      "/opt/conda/lib/python3.7/site-packages/sklearn/utils/deprecation.py:87: FutureWarning: Function plot_confusion_matrix is deprecated; Function `plot_confusion_matrix` is deprecated in 1.0 and will be removed in 1.2. Use one of the class methods: ConfusionMatrixDisplay.from_predictions or ConfusionMatrixDisplay.from_estimator.\n",
      "  warnings.warn(msg, category=FutureWarning)\n"
     ]
    },
    {
     "data": {
      "image/png": "[encoded data removed]",
      "text/plain": [
       "<Figure size 432x288 with 2 Axes>"
      ]
     },
     "metadata": {
      "needs_background": "light"
     },
     "output_type": "display_data"
    },
    {
     "data": {
      "image/png": "[encoded data removed]",
      "text/plain": [
       "<Figure size 432x288 with 2 Axes>"
      ]
     },
     "metadata": {
      "needs_background": "light"
     },
     "output_type": "display_data"
    }
   ],
   "source": [
    "from sklearn.metrics import accuracy_score\n",
    "from sklearn.metrics import confusion_matrix, plot_confusion_matrix, ConfusionMatrixDisplay\n",
    "\n",
    "print('The accuracy score is:', accuracy_score(y_test, y_pred)) # accuracy score\n",
    "\n",
    "cm = confusion_matrix(y_test, y_pred) # Confusion matrix \n",
    "print('\\n Confusion matrix \\n \\n', cm)\n",
    "print(classification_report(y_test, y_pred ))\n",
    "\n",
    "plot_confusion_matrix(svm, X_test, y_test) # old plotting method\n",
    "plt.show()\n",
    "\n",
    "disp = ConfusionMatrixDisplay(cm, display_labels=svm.classes_) # new plotting method \n",
    "disp.plot()\n",
    "plt.show()"
   ]
  },
  {
   "cell_type": "code",
   "execution_count": 30,
   "id": "adf7b38d",
   "metadata": {
    "execution": {
     "iopub.execute_input": "2022-07-07T18:59:07.376227Z",
     "iopub.status.busy": "2022-07-07T18:59:07.375837Z",
     "iopub.status.idle": "2022-07-07T18:59:07.384967Z",
     "shell.execute_reply": "2022-07-07T18:59:07.383852Z"
    },
    "papermill": {
     "duration": 0.030027,
     "end_time": "2022-07-07T18:59:07.387158",
     "exception": false,
     "start_time": "2022-07-07T18:59:07.357131",
     "status": "completed"
    },
    "tags": []
   },
   "outputs": [
    {
     "name": "stdout",
     "output_type": "stream",
     "text": [
      "0.5036217673734527\n"
     ]
    }
   ],
   "source": [
    "from sklearn import metrics\n",
    "from sklearn.metrics import roc_curve, auc \n",
    "\n",
    "size = metrics.roc_auc_score(y_test, y_pred)\n",
    "print(size)"
   ]
  },
  {
   "cell_type": "code",
   "execution_count": 31,
   "id": "a40769f4",
   "metadata": {
    "execution": {
     "iopub.execute_input": "2022-07-07T18:59:07.423117Z",
     "iopub.status.busy": "2022-07-07T18:59:07.422285Z",
     "iopub.status.idle": "2022-07-07T18:59:07.739395Z",
     "shell.execute_reply": "2022-07-07T18:59:07.738165Z"
    },
    "papermill": {
     "duration": 0.339343,
     "end_time": "2022-07-07T18:59:07.743225",
     "exception": false,
     "start_time": "2022-07-07T18:59:07.403882",
     "status": "completed"
    },
    "tags": []
   },
   "outputs": [
    {
     "data": {
      "text/plain": [
       "Text(0.5, 1.0, 'Receiver operating characteristic example')"
      ]
     },
     "execution_count": 31,
     "metadata": {},
     "output_type": "execute_result"
    },
    {
     "data": {
      "image/png": "[encoded data removed]",
      "text/plain": [
       "<Figure size 720x576 with 1 Axes>"
      ]
     },
     "metadata": {
      "needs_background": "light"
     },
     "output_type": "display_data"
    }
   ],
   "source": [
    "plt.figure(figsize=(10,8))\n",
    "probas_ = svm.predict_proba(X_test)\n",
    "fpr, tpr, thresholds = roc_curve(y_test, probas_[:, 1])\n",
    "roc_auc = auc(fpr, tpr)\n",
    "plt.plot(fpr, tpr, lw=1, label='ROC fold (area = %0.2f)' % (roc_auc))\n",
    "plt.plot([0, 1], [0, 1], '--', color=(0.6, 0.6, 0.6), label='Random')\n",
    "plt.xlim([-0.05, 1.05])\n",
    "plt.ylim([-0.05, 1.05])\n",
    "plt.xlabel('False Positive Rate')\n",
    "plt.ylabel('True Positive Rate')\n",
    "plt.title('Receiver operating characteristic example')"
   ]
  },
  {
   "cell_type": "code",
   "execution_count": 32,
   "id": "2c9dda01",
   "metadata": {
    "execution": {
     "iopub.execute_input": "2022-07-07T18:59:07.785427Z",
     "iopub.status.busy": "2022-07-07T18:59:07.784707Z",
     "iopub.status.idle": "2022-07-07T18:59:07.796256Z",
     "shell.execute_reply": "2022-07-07T18:59:07.795310Z"
    },
    "papermill": {
     "duration": 0.033116,
     "end_time": "2022-07-07T18:59:07.798887",
     "exception": false,
     "start_time": "2022-07-07T18:59:07.765771",
     "status": "completed"
    },
    "tags": []
   },
   "outputs": [],
   "source": [
    "from sklearn.preprocessing import StandardScaler\n",
    "\n",
    "scaler =StandardScaler()\n",
    "Xs = scaler.fit_transform(X)"
   ]
  },
  {
   "cell_type": "code",
   "execution_count": 33,
   "id": "78e5d3b9",
   "metadata": {
    "execution": {
     "iopub.execute_input": "2022-07-07T18:59:07.835880Z",
     "iopub.status.busy": "2022-07-07T18:59:07.834828Z",
     "iopub.status.idle": "2022-07-07T18:59:07.909549Z",
     "shell.execute_reply": "2022-07-07T18:59:07.908299Z"
    },
    "papermill": {
     "duration": 0.098229,
     "end_time": "2022-07-07T18:59:07.914325",
     "exception": false,
     "start_time": "2022-07-07T18:59:07.816096",
     "status": "completed"
    },
    "tags": []
   },
   "outputs": [
    {
     "name": "stdout",
     "output_type": "stream",
     "text": [
      "Explained Variance: [0.21303599 0.12536707 0.10386113 0.0754632  0.07123582 0.07056071\n",
      " 0.06670625 0.05749594 0.0535424  0.04570778]\n",
      "[[-0.04750815  0.29738267 -0.11057012 -0.19709815 -0.16716169  0.20158599\n",
      "   0.06590924  0.4338035   0.13465579  0.18739638  0.4839166   0.43745037\n",
      "   0.28579128  0.12388495  0.1459857 ]\n",
      " [ 0.35067567 -0.10787048 -0.0219227   0.59006582  0.6315792   0.03891382\n",
      "  -0.01704058  0.16154453 -0.01693727  0.01779272  0.15257871  0.19746449\n",
      "   0.05094631  0.15448877 -0.02450344]\n",
      " [ 0.05548035  0.01726192 -0.02945241  0.0581382   0.05290501 -0.04675735\n",
      "  -0.02298054 -0.11836277  0.68612346 -0.01776368 -0.09296252 -0.15159347\n",
      "  -0.02663572  0.05653778  0.68282053]\n",
      " [ 0.56201946  0.09844577 -0.04389756 -0.11358909 -0.03352104  0.09193001\n",
      "   0.28261935  0.01797392  0.03736821 -0.27525551 -0.03274533  0.00972754\n",
      "   0.21289547 -0.6679694  -0.00225166]\n",
      " [-0.24145019 -0.06908409  0.3119043   0.11020682  0.04260983  0.57594585\n",
      "   0.61924923  0.06140373  0.02827833 -0.02604691  0.00144727 -0.05891247\n",
      "  -0.31665081 -0.00145547  0.03885084]\n",
      " [-0.05532124  0.49665529 -0.55993759  0.13873946  0.12284532  0.00405386\n",
      "   0.22228922 -0.11799083 -0.05606739  0.47988431 -0.08033798 -0.24916755\n",
      "  -0.13889712 -0.11952115 -0.05919217]\n",
      " [-0.13450185 -0.2438289  -0.61998447 -0.01808824 -0.02974782 -0.05248996\n",
      "   0.3643411  -0.02252605 -0.02388845 -0.5173792  -0.01985015  0.01223683\n",
      "   0.18290854  0.31387644 -0.00933721]\n",
      " [ 0.18135777 -0.06717215  0.30024305 -0.09407347 -0.03164792 -0.53583641\n",
      "   0.57720962 -0.08178449 -0.02930609  0.33289979 -0.0711576   0.04755761\n",
      "   0.23391229  0.24871057  0.00644196]\n",
      " [ 0.02717669 -0.32588911 -0.05712015 -0.04408208  0.00685405  0.49143239\n",
      "  -0.10318998 -0.20379405  0.00215261  0.36549382 -0.23613165 -0.12402143\n",
      "   0.62019035  0.06128443 -0.03157733]\n",
      " [ 0.59131406  0.28514963  0.02920428 -0.23070257 -0.11674834  0.27810742\n",
      "  -0.06956241 -0.0793599  -0.0976458  -0.10663754 -0.10554439 -0.13326241\n",
      "  -0.20732645  0.56514831 -0.02585244]]\n"
     ]
    }
   ],
   "source": [
    "from sklearn.decomposition import PCA\n",
    "\n",
    "pca = PCA(n_components=10)\n",
    "fit = pca.fit(Xs)\n",
    "\n",
    "print(\"Explained Variance: {}\".format(fit.explained_variance_ratio_))\n",
    "print(fit.components_)"
   ]
  },
  {
   "cell_type": "code",
   "execution_count": 34,
   "id": "82b47c38",
   "metadata": {
    "execution": {
     "iopub.execute_input": "2022-07-07T18:59:08.031983Z",
     "iopub.status.busy": "2022-07-07T18:59:08.031578Z",
     "iopub.status.idle": "2022-07-07T18:59:08.106013Z",
     "shell.execute_reply": "2022-07-07T18:59:08.104625Z"
    },
    "papermill": {
     "duration": 0.113706,
     "end_time": "2022-07-07T18:59:08.110160",
     "exception": false,
     "start_time": "2022-07-07T18:59:07.996454",
     "status": "completed"
    },
    "tags": []
   },
   "outputs": [
    {
     "name": "stdout",
     "output_type": "stream",
     "text": [
      "Explained Variance: [0.21303599 0.12536707 0.10386113 0.0754632  0.07123582 0.07056071\n",
      " 0.06670625 0.05749594 0.0535424  0.04570778]\n",
      "[[-0.04750815  0.29738267 -0.11057012 -0.19709815 -0.16716169  0.20158599\n",
      "   0.06590924  0.4338035   0.13465579  0.18739638  0.4839166   0.43745037\n",
      "   0.28579128  0.12388495  0.1459857 ]\n",
      " [ 0.35067567 -0.10787048 -0.0219227   0.59006582  0.6315792   0.03891382\n",
      "  -0.01704058  0.16154453 -0.01693727  0.01779272  0.15257871  0.19746449\n",
      "   0.05094631  0.15448877 -0.02450344]\n",
      " [ 0.05548035  0.01726192 -0.02945241  0.0581382   0.05290501 -0.04675735\n",
      "  -0.02298054 -0.11836277  0.68612346 -0.01776368 -0.09296252 -0.15159347\n",
      "  -0.02663572  0.05653778  0.68282053]\n",
      " [ 0.56201946  0.09844577 -0.04389756 -0.11358909 -0.03352104  0.09193001\n",
      "   0.28261935  0.01797392  0.03736821 -0.27525551 -0.03274533  0.00972754\n",
      "   0.21289547 -0.6679694  -0.00225166]\n",
      " [-0.24145019 -0.06908409  0.3119043   0.11020682  0.04260983  0.57594585\n",
      "   0.61924923  0.06140373  0.02827833 -0.02604691  0.00144727 -0.05891247\n",
      "  -0.31665081 -0.00145547  0.03885084]\n",
      " [-0.05532124  0.49665529 -0.55993759  0.13873946  0.12284532  0.00405386\n",
      "   0.22228922 -0.11799083 -0.05606739  0.47988431 -0.08033798 -0.24916755\n",
      "  -0.13889712 -0.11952115 -0.05919217]\n",
      " [-0.13450185 -0.2438289  -0.61998447 -0.01808824 -0.02974782 -0.05248996\n",
      "   0.3643411  -0.02252605 -0.02388845 -0.5173792  -0.01985015  0.01223683\n",
      "   0.18290854  0.31387644 -0.00933721]\n",
      " [ 0.18135777 -0.06717215  0.30024305 -0.09407347 -0.03164792 -0.53583641\n",
      "   0.57720962 -0.08178449 -0.02930609  0.33289979 -0.0711576   0.04755761\n",
      "   0.23391229  0.24871057  0.00644196]\n",
      " [ 0.02717669 -0.32588911 -0.05712015 -0.04408208  0.00685405  0.49143239\n",
      "  -0.10318998 -0.20379405  0.00215261  0.36549382 -0.23613165 -0.12402143\n",
      "   0.62019035  0.06128443 -0.03157733]\n",
      " [ 0.59131406  0.28514963  0.02920428 -0.23070257 -0.11674834  0.27810742\n",
      "  -0.06956241 -0.0793599  -0.0976458  -0.10663754 -0.10554439 -0.13326241\n",
      "  -0.20732645  0.56514831 -0.02585244]]\n"
     ]
    }
   ],
   "source": [
    "from sklearn.decomposition import PCA\n",
    "\n",
    "pca = PCA(n_components=10)\n",
    "fit = pca.fit(Xs)\n",
    "\n",
    "print(\"Explained Variance: {}\".format(fit.explained_variance_ratio_))\n",
    "print(fit.components_)"
   ]
  },
  {
   "cell_type": "code",
   "execution_count": 35,
   "id": "c1ab308c",
   "metadata": {
    "execution": {
     "iopub.execute_input": "2022-07-07T18:59:08.216713Z",
     "iopub.status.busy": "2022-07-07T18:59:08.216314Z",
     "iopub.status.idle": "2022-07-07T18:59:08.223571Z",
     "shell.execute_reply": "2022-07-07T18:59:08.222320Z"
    },
    "papermill": {
     "duration": 0.066387,
     "end_time": "2022-07-07T18:59:08.227689",
     "exception": false,
     "start_time": "2022-07-07T18:59:08.161302",
     "status": "completed"
    },
    "tags": []
   },
   "outputs": [
    {
     "name": "stdout",
     "output_type": "stream",
     "text": [
      "[21.3  33.84 44.23 51.78 58.9  65.96 72.63 78.38 83.73 88.3 ]\n"
     ]
    }
   ],
   "source": [
    "var= pca.explained_variance_ratio_\n",
    "#Cumulative Variance explains\n",
    "var1=np.cumsum(np.round(pca.explained_variance_ratio_, decimals=4)*100)\n",
    "print(var1)"
   ]
  },
  {
   "cell_type": "code",
   "execution_count": 36,
   "id": "322ad136",
   "metadata": {
    "execution": {
     "iopub.execute_input": "2022-07-07T18:59:08.266437Z",
     "iopub.status.busy": "2022-07-07T18:59:08.266007Z",
     "iopub.status.idle": "2022-07-07T18:59:08.466696Z",
     "shell.execute_reply": "2022-07-07T18:59:08.465327Z"
    },
    "papermill": {
     "duration": 0.222598,
     "end_time": "2022-07-07T18:59:08.469349",
     "exception": false,
     "start_time": "2022-07-07T18:59:08.246751",
     "status": "completed"
    },
    "tags": []
   },
   "outputs": [
    {
     "data": {
      "image/png": "[encoded data removed]",
      "text/plain": [
       "<Figure size 432x288 with 1 Axes>"
      ]
     },
     "metadata": {
      "needs_background": "light"
     },
     "output_type": "display_data"
    }
   ],
   "source": [
    "plt.plot(var, marker='o')\n",
    "plt.title('Scree Plot')\n",
    "plt.xlabel('Principal Component')\n",
    "plt.ylabel('Eigenvalue')\n",
    "\n",
    "leg = plt.legend(['Eigenvalues from PCA'], loc='best', borderpad=0.3,shadow=False,markerscale=0.4)\n",
    "leg.get_frame().set_alpha(0.4)\n",
    "plt.show()\n"
   ]
  },
  {
   "cell_type": "code",
   "execution_count": null,
   "id": "2ff69f06",
   "metadata": {
    "papermill": {
     "duration": 0.017523,
     "end_time": "2022-07-07T18:59:08.513046",
     "exception": false,
     "start_time": "2022-07-07T18:59:08.495523",
     "status": "completed"
    },
    "tags": []
   },
   "outputs": [],
   "source": []
  }
 ],
 "metadata": {
  "kernelspec": {
   "display_name": "Python 3",
   "language": "python",
   "name": "python3"
  },
  "language_info": {
   "codemirror_mode": {
    "name": "ipython",
    "version": 3
   },
   "file_extension": ".py",
   "mimetype": "text/x-python",
   "name": "python",
   "nbconvert_exporter": "python",
   "pygments_lexer": "ipython3",
   "version": "3.7.12"
  },
  "papermill": {
   "default_parameters": {},
   "duration": 18.948782,
   "end_time": "2022-07-07T18:59:09.353910",
   "environment_variables": {},
   "exception": null,
   "input_path": "__notebook__.ipynb",
   "output_path": "__notebook__.ipynb",
   "parameters": {},
   "start_time": "2022-07-07T18:58:50.405128",
   "version": "2.3.4"
  }
 },
 "nbformat": 4,
 "nbformat_minor": 5
}
