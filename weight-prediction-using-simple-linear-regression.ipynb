{
 "cells": [
  {
   "cell_type": "code",
   "execution_count": 1,
   "id": "humanitarian-pilot",
   "metadata": {
    "_cell_guid": "b1076dfc-b9ad-4769-8c92-a6c4dae69d19",
    "_uuid": "8f2839f25d086af736a60e9eeb907d3b93b6e0e5",
    "execution": {
     "iopub.execute_input": "2022-06-23T06:31:55.595332Z",
     "iopub.status.busy": "2022-06-23T06:31:55.594617Z",
     "iopub.status.idle": "2022-06-23T06:31:55.608567Z",
     "shell.execute_reply": "2022-06-23T06:31:55.607697Z",
     "shell.execute_reply.started": "2022-06-23T06:28:24.138396Z"
    },
    "papermill": {
     "duration": 0.041489,
     "end_time": "2022-06-23T06:31:55.608752",
     "exception": false,
     "start_time": "2022-06-23T06:31:55.567263",
     "status": "completed"
    },
    "tags": []
   },
   "outputs": [
    {
     "name": "stdout",
     "output_type": "stream",
     "text": [
      "/kaggle/input/heights-and-weights/data.csv\n"
     ]
    }
   ],
   "source": [
    "# This Python 3 environment comes with many helpful analytics libraries installed\n",
    "# It is defined by the kaggle/python Docker image: https://github.com/kaggle/docker-python\n",
    "# For example, here's several helpful packages to load\n",
    "\n",
    "import numpy as np # linear algebra\n",
    "import pandas as pd # data processing, CSV file I/O (e.g. pd.read_csv)\n",
    "\n",
    "# Input data files are available in the read-only \"../input/\" directory\n",
    "# For example, running this (by clicking run or pressing Shift+Enter) will list all files under the input directory\n",
    "\n",
    "import os\n",
    "for dirname, _, filenames in os.walk('/kaggle/input'):\n",
    "    for filename in filenames:\n",
    "        print(os.path.join(dirname, filename))\n",
    "\n",
    "# You can write up to 20GB to the current directory (/kaggle/working/) that gets preserved as output when you create a version using \"Save & Run All\" \n",
    "# You can also write temporary files to /kaggle/temp/, but they won't be saved outside of the current session"
   ]
  },
  {
   "cell_type": "code",
   "execution_count": 2,
   "id": "thermal-bleeding",
   "metadata": {
    "execution": {
     "iopub.execute_input": "2022-06-23T06:31:55.644524Z",
     "iopub.status.busy": "2022-06-23T06:31:55.643848Z",
     "iopub.status.idle": "2022-06-23T06:31:55.675593Z",
     "shell.execute_reply": "2022-06-23T06:31:55.675020Z",
     "shell.execute_reply.started": "2022-06-23T06:28:24.159987Z"
    },
    "papermill": {
     "duration": 0.051218,
     "end_time": "2022-06-23T06:31:55.675737",
     "exception": false,
     "start_time": "2022-06-23T06:31:55.624519",
     "status": "completed"
    },
    "tags": []
   },
   "outputs": [
    {
     "data": {
      "text/html": [
       "<div>\n",
       "<style scoped>\n",
       "    .dataframe tbody tr th:only-of-type {\n",
       "        vertical-align: middle;\n",
       "    }\n",
       "\n",
       "    .dataframe tbody tr th {\n",
       "        vertical-align: top;\n",
       "    }\n",
       "\n",
       "    .dataframe thead th {\n",
       "        text-align: right;\n",
       "    }\n",
       "</style>\n",
       "<table border=\"1\" class=\"dataframe\">\n",
       "  <thead>\n",
       "    <tr style=\"text-align: right;\">\n",
       "      <th></th>\n",
       "      <th>Height</th>\n",
       "      <th>Weight</th>\n",
       "    </tr>\n",
       "  </thead>\n",
       "  <tbody>\n",
       "    <tr>\n",
       "      <th>0</th>\n",
       "      <td>1.47</td>\n",
       "      <td>52.21</td>\n",
       "    </tr>\n",
       "    <tr>\n",
       "      <th>1</th>\n",
       "      <td>1.50</td>\n",
       "      <td>53.12</td>\n",
       "    </tr>\n",
       "    <tr>\n",
       "      <th>2</th>\n",
       "      <td>1.52</td>\n",
       "      <td>54.48</td>\n",
       "    </tr>\n",
       "    <tr>\n",
       "      <th>3</th>\n",
       "      <td>1.55</td>\n",
       "      <td>55.84</td>\n",
       "    </tr>\n",
       "    <tr>\n",
       "      <th>4</th>\n",
       "      <td>1.57</td>\n",
       "      <td>57.20</td>\n",
       "    </tr>\n",
       "  </tbody>\n",
       "</table>\n",
       "</div>"
      ],
      "text/plain": [
       "   Height  Weight\n",
       "0    1.47   52.21\n",
       "1    1.50   53.12\n",
       "2    1.52   54.48\n",
       "3    1.55   55.84\n",
       "4    1.57   57.20"
      ]
     },
     "execution_count": 2,
     "metadata": {},
     "output_type": "execute_result"
    }
   ],
   "source": [
    "#importing csv dataset\n",
    "df=pd.read_csv(\"//kaggle//input//heights-and-weights//data.csv\")\n",
    "df.head()"
   ]
  },
  {
   "cell_type": "code",
   "execution_count": 3,
   "id": "several-fraud",
   "metadata": {
    "execution": {
     "iopub.execute_input": "2022-06-23T06:31:55.717476Z",
     "iopub.status.busy": "2022-06-23T06:31:55.716734Z",
     "iopub.status.idle": "2022-06-23T06:31:55.740219Z",
     "shell.execute_reply": "2022-06-23T06:31:55.739603Z",
     "shell.execute_reply.started": "2022-06-23T06:28:31.603109Z"
    },
    "papermill": {
     "duration": 0.048809,
     "end_time": "2022-06-23T06:31:55.740365",
     "exception": false,
     "start_time": "2022-06-23T06:31:55.691556",
     "status": "completed"
    },
    "tags": []
   },
   "outputs": [
    {
     "data": {
      "text/html": [
       "<div>\n",
       "<style scoped>\n",
       "    .dataframe tbody tr th:only-of-type {\n",
       "        vertical-align: middle;\n",
       "    }\n",
       "\n",
       "    .dataframe tbody tr th {\n",
       "        vertical-align: top;\n",
       "    }\n",
       "\n",
       "    .dataframe thead th {\n",
       "        text-align: right;\n",
       "    }\n",
       "</style>\n",
       "<table border=\"1\" class=\"dataframe\">\n",
       "  <thead>\n",
       "    <tr style=\"text-align: right;\">\n",
       "      <th></th>\n",
       "      <th>count</th>\n",
       "      <th>mean</th>\n",
       "      <th>std</th>\n",
       "      <th>min</th>\n",
       "      <th>25%</th>\n",
       "      <th>50%</th>\n",
       "      <th>75%</th>\n",
       "      <th>max</th>\n",
       "    </tr>\n",
       "  </thead>\n",
       "  <tbody>\n",
       "    <tr>\n",
       "      <th>Height</th>\n",
       "      <td>15.0</td>\n",
       "      <td>1.650667</td>\n",
       "      <td>0.114235</td>\n",
       "      <td>1.47</td>\n",
       "      <td>1.56</td>\n",
       "      <td>1.65</td>\n",
       "      <td>1.74</td>\n",
       "      <td>1.83</td>\n",
       "    </tr>\n",
       "    <tr>\n",
       "      <th>Weight</th>\n",
       "      <td>15.0</td>\n",
       "      <td>62.078000</td>\n",
       "      <td>7.037515</td>\n",
       "      <td>52.21</td>\n",
       "      <td>56.52</td>\n",
       "      <td>61.29</td>\n",
       "      <td>67.19</td>\n",
       "      <td>74.46</td>\n",
       "    </tr>\n",
       "  </tbody>\n",
       "</table>\n",
       "</div>"
      ],
      "text/plain": [
       "        count       mean       std    min    25%    50%    75%    max\n",
       "Height   15.0   1.650667  0.114235   1.47   1.56   1.65   1.74   1.83\n",
       "Weight   15.0  62.078000  7.037515  52.21  56.52  61.29  67.19  74.46"
      ]
     },
     "execution_count": 3,
     "metadata": {},
     "output_type": "execute_result"
    }
   ],
   "source": [
    "df.describe().T"
   ]
  },
  {
   "cell_type": "code",
   "execution_count": 4,
   "id": "daily-package",
   "metadata": {
    "execution": {
     "iopub.execute_input": "2022-06-23T06:31:55.778121Z",
     "iopub.status.busy": "2022-06-23T06:31:55.777084Z",
     "iopub.status.idle": "2022-06-23T06:31:55.781144Z",
     "shell.execute_reply": "2022-06-23T06:31:55.780468Z",
     "shell.execute_reply.started": "2022-06-23T06:28:34.210643Z"
    },
    "papermill": {
     "duration": 0.024552,
     "end_time": "2022-06-23T06:31:55.781282",
     "exception": false,
     "start_time": "2022-06-23T06:31:55.756730",
     "status": "completed"
    },
    "tags": []
   },
   "outputs": [
    {
     "data": {
      "text/plain": [
       "(15, 2)"
      ]
     },
     "execution_count": 4,
     "metadata": {},
     "output_type": "execute_result"
    }
   ],
   "source": [
    "#checking rows and columns\n",
    "df.shape"
   ]
  },
  {
   "cell_type": "code",
   "execution_count": 5,
   "id": "controlled-solution",
   "metadata": {
    "execution": {
     "iopub.execute_input": "2022-06-23T06:31:55.821228Z",
     "iopub.status.busy": "2022-06-23T06:31:55.820509Z",
     "iopub.status.idle": "2022-06-23T06:31:56.877261Z",
     "shell.execute_reply": "2022-06-23T06:31:56.876700Z",
     "shell.execute_reply.started": "2022-06-23T06:28:48.353463Z"
    },
    "papermill": {
     "duration": 1.07981,
     "end_time": "2022-06-23T06:31:56.877428",
     "exception": false,
     "start_time": "2022-06-23T06:31:55.797618",
     "status": "completed"
    },
    "tags": []
   },
   "outputs": [
    {
     "data": {
      "image/png": "[encoded data removed]",
      "text/plain": [
       "<Figure size 432x288 with 1 Axes>"
      ]
     },
     "metadata": {
      "needs_background": "light"
     },
     "output_type": "display_data"
    }
   ],
   "source": [
    "#importing library for data visualisation\n",
    "from matplotlib import pyplot as plt\n",
    "import seaborn as sns\n",
    "sns.scatterplot(x=df[\"Height\"],y=df[\"Weight\"],data=df)\n",
    "plt.xlabel(\"height\",fontsize=15)\n",
    "plt.ylabel(\"weight\",fontsize=15)\n",
    "plt.title(\"height vs weight\",fontsize=15)\n",
    "plt.grid(\"black\")\n",
    "plt.show()\n",
    "\n"
   ]
  },
  {
   "cell_type": "code",
   "execution_count": 6,
   "id": "crucial-ceramic",
   "metadata": {
    "execution": {
     "iopub.execute_input": "2022-06-23T06:31:56.923516Z",
     "iopub.status.busy": "2022-06-23T06:31:56.922390Z",
     "iopub.status.idle": "2022-06-23T06:31:57.113568Z",
     "shell.execute_reply": "2022-06-23T06:31:57.112870Z",
     "shell.execute_reply.started": "2022-06-23T06:28:52.674176Z"
    },
    "papermill": {
     "duration": 0.212777,
     "end_time": "2022-06-23T06:31:57.113717",
     "exception": false,
     "start_time": "2022-06-23T06:31:56.900940",
     "status": "completed"
    },
    "tags": []
   },
   "outputs": [],
   "source": [
    "#spiliting the dataset into training and testing set\n",
    "from sklearn.model_selection import train_test_split\n",
    "x=df.iloc[0:,0:1].values\n",
    "y=df.iloc[0:,1:2].values\n",
    "x_train,x_test,y_train,y_test=train_test_split(x,y,test_size=.2)\n",
    "\n",
    "\n",
    "\n",
    "\n",
    "\n",
    "\n",
    "\n",
    "\n",
    "\n"
   ]
  },
  {
   "cell_type": "code",
   "execution_count": 7,
   "id": "skilled-accused",
   "metadata": {
    "execution": {
     "iopub.execute_input": "2022-06-23T06:31:57.154562Z",
     "iopub.status.busy": "2022-06-23T06:31:57.153878Z",
     "iopub.status.idle": "2022-06-23T06:31:57.283311Z",
     "shell.execute_reply": "2022-06-23T06:31:57.283928Z",
     "shell.execute_reply.started": "2022-06-23T06:29:02.833501Z"
    },
    "papermill": {
     "duration": 0.152779,
     "end_time": "2022-06-23T06:31:57.284108",
     "exception": false,
     "start_time": "2022-06-23T06:31:57.131329",
     "status": "completed"
    },
    "tags": []
   },
   "outputs": [
    {
     "data": {
      "text/plain": [
       "LinearRegression()"
      ]
     },
     "execution_count": 7,
     "metadata": {},
     "output_type": "execute_result"
    }
   ],
   "source": [
    "#fitting simple linear regression to the training test\n",
    "from sklearn.linear_model import LinearRegression\n",
    "lg=LinearRegression()\n",
    "lg.fit(x_train,y_train)"
   ]
  },
  {
   "cell_type": "code",
   "execution_count": 8,
   "id": "sorted-hotel",
   "metadata": {
    "execution": {
     "iopub.execute_input": "2022-06-23T06:31:57.325451Z",
     "iopub.status.busy": "2022-06-23T06:31:57.324766Z",
     "iopub.status.idle": "2022-06-23T06:31:57.327650Z",
     "shell.execute_reply": "2022-06-23T06:31:57.328217Z",
     "shell.execute_reply.started": "2022-06-23T06:29:06.580561Z"
    },
    "papermill": {
     "duration": 0.026411,
     "end_time": "2022-06-23T06:31:57.328396",
     "exception": false,
     "start_time": "2022-06-23T06:31:57.301985",
     "status": "completed"
    },
    "tags": []
   },
   "outputs": [
    {
     "data": {
      "text/plain": [
       "array([[71.07947368],\n",
       "       [54.10255016],\n",
       "       [61.98469322]])"
      ]
     },
     "execution_count": 8,
     "metadata": {},
     "output_type": "execute_result"
    }
   ],
   "source": [
    "#predicting the test set results\n",
    "y_pred=lg.predict(x_test)\n",
    "y_pred"
   ]
  },
  {
   "cell_type": "markdown",
   "id": "marine-inclusion",
   "metadata": {
    "papermill": {
     "duration": 0.017678,
     "end_time": "2022-06-23T06:31:57.364137",
     "exception": false,
     "start_time": "2022-06-23T06:31:57.346459",
     "status": "completed"
    },
    "tags": []
   },
   "source": []
  },
  {
   "cell_type": "markdown",
   "id": "formed-mineral",
   "metadata": {
    "papermill": {
     "duration": 0.017895,
     "end_time": "2022-06-23T06:31:57.399950",
     "exception": false,
     "start_time": "2022-06-23T06:31:57.382055",
     "status": "completed"
    },
    "tags": []
   },
   "source": []
  },
  {
   "cell_type": "code",
   "execution_count": 9,
   "id": "familiar-proxy",
   "metadata": {
    "execution": {
     "iopub.execute_input": "2022-06-23T06:31:57.440100Z",
     "iopub.status.busy": "2022-06-23T06:31:57.439044Z",
     "iopub.status.idle": "2022-06-23T06:31:57.628572Z",
     "shell.execute_reply": "2022-06-23T06:31:57.629099Z",
     "shell.execute_reply.started": "2022-06-23T06:29:10.122403Z"
    },
    "papermill": {
     "duration": 0.211178,
     "end_time": "2022-06-23T06:31:57.629282",
     "exception": false,
     "start_time": "2022-06-23T06:31:57.418104",
     "status": "completed"
    },
    "tags": []
   },
   "outputs": [
    {
     "data": {
      "image/png": "[encoded data removed]",
      "text/plain": [
       "<Figure size 432x288 with 1 Axes>"
      ]
     },
     "metadata": {
      "needs_background": "light"
     },
     "output_type": "display_data"
    }
   ],
   "source": [
    "#visualization the training set results\n",
    "plt.scatter(x_train,y_train,color=\"blue\")\n",
    "plt.plot(x_train,lg.predict(x_train),color=\"red\")\n",
    "plt.title(\"height vs weight(training)\")\n",
    "plt.xlabel(\"height\")\n",
    "plt.ylabel(\"weight\")\n",
    "plt.grid()\n",
    "\n",
    "plt.show()"
   ]
  },
  {
   "cell_type": "code",
   "execution_count": 10,
   "id": "ordinary-integration",
   "metadata": {
    "execution": {
     "iopub.execute_input": "2022-06-23T06:31:57.670760Z",
     "iopub.status.busy": "2022-06-23T06:31:57.669732Z",
     "iopub.status.idle": "2022-06-23T06:31:57.675906Z",
     "shell.execute_reply": "2022-06-23T06:31:57.676536Z",
     "shell.execute_reply.started": "2022-06-23T06:29:18.738364Z"
    },
    "papermill": {
     "duration": 0.028742,
     "end_time": "2022-06-23T06:31:57.676710",
     "exception": false,
     "start_time": "2022-06-23T06:31:57.647968",
     "status": "completed"
    },
    "tags": []
   },
   "outputs": [
    {
     "data": {
      "text/plain": [
       "array([[60.63186973]])"
      ]
     },
     "execution_count": 10,
     "metadata": {},
     "output_type": "execute_result"
    }
   ],
   "source": [
    "lg.coef_"
   ]
  },
  {
   "cell_type": "code",
   "execution_count": 11,
   "id": "chinese-actor",
   "metadata": {
    "execution": {
     "iopub.execute_input": "2022-06-23T06:31:57.720421Z",
     "iopub.status.busy": "2022-06-23T06:31:57.719577Z",
     "iopub.status.idle": "2022-06-23T06:31:57.722880Z",
     "shell.execute_reply": "2022-06-23T06:31:57.723437Z",
     "shell.execute_reply.started": "2022-06-23T06:29:21.697616Z"
    },
    "papermill": {
     "duration": 0.027961,
     "end_time": "2022-06-23T06:31:57.723603",
     "exception": false,
     "start_time": "2022-06-23T06:31:57.695642",
     "status": "completed"
    },
    "tags": []
   },
   "outputs": [
    {
     "data": {
      "text/plain": [
       "array([-38.05789183])"
      ]
     },
     "execution_count": 11,
     "metadata": {},
     "output_type": "execute_result"
    }
   ],
   "source": [
    "lg.intercept_"
   ]
  },
  {
   "cell_type": "code",
   "execution_count": 12,
   "id": "moderate-cliff",
   "metadata": {
    "execution": {
     "iopub.execute_input": "2022-06-23T06:31:57.766077Z",
     "iopub.status.busy": "2022-06-23T06:31:57.765378Z",
     "iopub.status.idle": "2022-06-23T06:31:57.771382Z",
     "shell.execute_reply": "2022-06-23T06:31:57.771892Z",
     "shell.execute_reply.started": "2022-06-23T06:29:24.777811Z"
    },
    "papermill": {
     "duration": 0.029068,
     "end_time": "2022-06-23T06:31:57.772081",
     "exception": false,
     "start_time": "2022-06-23T06:31:57.743013",
     "status": "completed"
    },
    "tags": []
   },
   "outputs": [
    {
     "data": {
      "text/plain": [
       "0.9890283861148425"
      ]
     },
     "execution_count": 12,
     "metadata": {},
     "output_type": "execute_result"
    }
   ],
   "source": [
    "lg.score(x,y)"
   ]
  },
  {
   "cell_type": "code",
   "execution_count": 13,
   "id": "basic-finance",
   "metadata": {
    "execution": {
     "iopub.execute_input": "2022-06-23T06:31:57.815412Z",
     "iopub.status.busy": "2022-06-23T06:31:57.814746Z",
     "iopub.status.idle": "2022-06-23T06:31:57.820286Z",
     "shell.execute_reply": "2022-06-23T06:31:57.820913Z",
     "shell.execute_reply.started": "2022-06-23T06:29:45.800402Z"
    },
    "papermill": {
     "duration": 0.028675,
     "end_time": "2022-06-23T06:31:57.821095",
     "exception": false,
     "start_time": "2022-06-23T06:31:57.792420",
     "status": "completed"
    },
    "tags": []
   },
   "outputs": [
    {
     "data": {
      "text/plain": [
       "array([[46.82672579]])"
      ]
     },
     "execution_count": 13,
     "metadata": {},
     "output_type": "execute_result"
    }
   ],
   "source": [
    "#lets predict the weights of diffrent heights\n",
    "lg.predict([[1.40]])"
   ]
  },
  {
   "cell_type": "code",
   "execution_count": 14,
   "id": "novel-morning",
   "metadata": {
    "execution": {
     "iopub.execute_input": "2022-06-23T06:31:57.864699Z",
     "iopub.status.busy": "2022-06-23T06:31:57.864052Z",
     "iopub.status.idle": "2022-06-23T06:31:57.869701Z",
     "shell.execute_reply": "2022-06-23T06:31:57.870303Z",
     "shell.execute_reply.started": "2022-06-23T06:29:47.961845Z"
    },
    "papermill": {
     "duration": 0.029019,
     "end_time": "2022-06-23T06:31:57.870476",
     "exception": false,
     "start_time": "2022-06-23T06:31:57.841457",
     "status": "completed"
    },
    "tags": []
   },
   "outputs": [
    {
     "data": {
      "text/plain": [
       "array([[71.07947368]])"
      ]
     },
     "execution_count": 14,
     "metadata": {},
     "output_type": "execute_result"
    }
   ],
   "source": [
    "lg.predict([[1.80]])"
   ]
  },
  {
   "cell_type": "code",
   "execution_count": null,
   "id": "special-three",
   "metadata": {
    "papermill": {
     "duration": 0.020988,
     "end_time": "2022-06-23T06:31:57.912304",
     "exception": false,
     "start_time": "2022-06-23T06:31:57.891316",
     "status": "completed"
    },
    "tags": []
   },
   "outputs": [],
   "source": []
  }
 ],
 "metadata": {
  "kernelspec": {
   "display_name": "Python 3",
   "language": "python",
   "name": "python3"
  },
  "language_info": {
   "codemirror_mode": {
    "name": "ipython",
    "version": 3
   },
   "file_extension": ".py",
   "mimetype": "text/x-python",
   "name": "python",
   "nbconvert_exporter": "python",
   "pygments_lexer": "ipython3",
   "version": "3.7.10"
  },
  "papermill": {
   "default_parameters": {},
   "duration": 11.757876,
   "end_time": "2022-06-23T06:31:59.515006",
   "environment_variables": {},
   "exception": null,
   "input_path": "__notebook__.ipynb",
   "output_path": "__notebook__.ipynb",
   "parameters": {},
   "start_time": "2022-06-23T06:31:47.757130",
   "version": "2.3.3"
  }
 },
 "nbformat": 4,
 "nbformat_minor": 5
}
